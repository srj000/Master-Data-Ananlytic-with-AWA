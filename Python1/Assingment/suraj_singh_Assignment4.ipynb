{
  "nbformat": 4,
  "nbformat_minor": 0,
  "metadata": {
    "colab": {
      "provenance": []
    },
    "kernelspec": {
      "name": "python3",
      "display_name": "Python 3"
    },
    "language_info": {
      "name": "python"
    }
  },
  "cells": [
    {
      "cell_type": "code",
      "execution_count": 11,
      "metadata": {
        "colab": {
          "base_uri": "https://localhost:8080/"
        },
        "id": "9wq9InJULtzY",
        "outputId": "601cd907-482e-478a-d236-f904620dc769"
      },
      "outputs": [
        {
          "output_type": "stream",
          "name": "stdout",
          "text": [
            "1\n",
            "2\n",
            "3\n",
            "4\n",
            "5\n",
            "1\n",
            "2\n",
            "3\n",
            "4\n",
            "5\n"
          ]
        }
      ],
      "source": [
        "# Q1) Write a Python program that creates a list of 5 numbers and prints each number using a for loop\n",
        "my_list = [1,2,3,4,5]\n",
        "for i  in my_list:\n",
        "  print(i)\n"
      ]
    },
    {
      "cell_type": "code",
      "source": [
        "#Q2) Write a program that calculates the sum of all elements in a list of numbers using a loop.\n",
        "\n",
        "list1 = [1,2,3,4,5]\n",
        "sum_list = 0\n",
        "for i in list1:\n",
        "  sum_list += i\n",
        "print(sum_list)\n",
        "\n"
      ],
      "metadata": {
        "colab": {
          "base_uri": "https://localhost:8080/"
        },
        "id": "7HREZmLTQnFS",
        "outputId": "5e09b088-664d-46c5-b254-196085294dd3"
      },
      "execution_count": 15,
      "outputs": [
        {
          "output_type": "stream",
          "name": "stdout",
          "text": [
            "15\n"
          ]
        }
      ]
    },
    {
      "cell_type": "markdown",
      "source": [
        "Write a Python program that finds the maximum number in a list using a loop (do not use\n",
        "built-in max() function)."
      ],
      "metadata": {
        "id": "Amg3JUNWX2-m"
      }
    },
    {
      "cell_type": "code",
      "source": [
        "list2 =[20,39,14,67,19]\n",
        "max_number = list2[0]\n",
        "for number in list2:\n",
        "  if number > max_number:\n",
        "    max_number = number\n",
        "print(max_number)\n",
        "\n",
        "\n",
        "\n",
        ""
      ],
      "metadata": {
        "colab": {
          "base_uri": "https://localhost:8080/"
        },
        "id": "IlB6SSyAYAzG",
        "outputId": "6840efd2-7f55-4226-f29d-36178aed8bad"
      },
      "execution_count": 2,
      "outputs": [
        {
          "output_type": "stream",
          "name": "stdout",
          "text": [
            "67\n"
          ]
        }
      ]
    },
    {
      "cell_type": "markdown",
      "source": [
        "Write a Python program to create a tuple of strings and print each element using a for loop."
      ],
      "metadata": {
        "id": "DWWMFP9uVcNh"
      }
    },
    {
      "cell_type": "code",
      "source": [
        "my_tuple = (\"this\", \"is\", \"a program\")\n",
        "for element in my_tuple:\n",
        "  print(element)"
      ],
      "metadata": {
        "colab": {
          "base_uri": "https://localhost:8080/"
        },
        "id": "HIQ0Wy4-Ve2H",
        "outputId": "e035dc38-3c4a-4705-fefd-defe942a0829"
      },
      "execution_count": 7,
      "outputs": [
        {
          "output_type": "stream",
          "name": "stdout",
          "text": [
            "this\n",
            "is\n",
            "a program\n"
          ]
        }
      ]
    },
    {
      "cell_type": "markdown",
      "source": [
        "Write a Python program that concatenates all elements in a tuple of strings into a single\n",
        "string using a loop."
      ],
      "metadata": {
        "id": "E4PMSiWMWpuY"
      }
    },
    {
      "cell_type": "code",
      "source": [
        "\n",
        "tup1= (\"hello!\",\" \",\" World\")\n",
        "tup2 =\"\"\n",
        "for element in tup1:\n",
        "  tup2 += element\n",
        "print('concatanated string:', tup2.strip())"
      ],
      "metadata": {
        "colab": {
          "base_uri": "https://localhost:8080/"
        },
        "id": "OWaHLTdDWwXb",
        "outputId": "900c8be9-2871-45af-e9a9-a48d6373bc99"
      },
      "execution_count": 14,
      "outputs": [
        {
          "output_type": "stream",
          "name": "stdout",
          "text": [
            "concatanated string: hello!  World\n"
          ]
        }
      ]
    },
    {
      "cell_type": "markdown",
      "source": [
        "Write a Python program that reverses the elements of a tuple using a loop"
      ],
      "metadata": {
        "id": "n48k7dMOZgh-"
      }
    },
    {
      "cell_type": "code",
      "source": [
        "org_list= [1,2,3,4,5]\n",
        "rev_list = []\n",
        "for i in range(len(org_list)-1,-1,-1):\n",
        " rev_list.append(org_list[i])\n",
        "print(\"Reversed list:\", rev_list)"
      ],
      "metadata": {
        "colab": {
          "base_uri": "https://localhost:8080/"
        },
        "id": "k6P2pK5DOStO",
        "outputId": "9220d626-4fc1-405f-d4bd-63693a56a806"
      },
      "execution_count": 12,
      "outputs": [
        {
          "output_type": "stream",
          "name": "stdout",
          "text": [
            "Reversed list: [5, 4, 3, 2, 1]\n"
          ]
        }
      ]
    },
    {
      "cell_type": "code",
      "source": [
        "my_tuple2 = (1, 2, 3, 4, 5)\n",
        "reversed_tuple = []\n",
        "for i in range(len(my_tuple2)-1, -1, -1):\n",
        "    reversed_tuple.append(my_tuple2[i])\n",
        "print(\"Reversed tuple:\", reversed_tuple)"
      ],
      "metadata": {
        "colab": {
          "base_uri": "https://localhost:8080/"
        },
        "id": "nJG_7lH5eMPm",
        "outputId": "bee48d1a-a2a8-4129-e780-4591747a3c5e"
      },
      "execution_count": 13,
      "outputs": [
        {
          "output_type": "stream",
          "name": "stdout",
          "text": [
            "Reversed tuple: [5, 4, 3, 2, 1]\n"
          ]
        }
      ]
    },
    {
      "cell_type": "markdown",
      "source": [
        "Create a dictionary where the keys are names of students and the values are their scores.Create a dictionary where the keys are names of students and the values are their scores.\n",
        "Write a program that prints each student's name and their score using a loop."
      ],
      "metadata": {
        "id": "80fuddm0hB3-"
      }
    },
    {
      "cell_type": "code",
      "source": [
        "scoresheet = {\"Suraj\":95, \"Vikas\":67, \"Anjali\":98}\n",
        "for name,score in scoresheet.items():\n",
        "  print(f\"{name}:{score}\")"
      ],
      "metadata": {
        "colab": {
          "base_uri": "https://localhost:8080/"
        },
        "id": "-H9m8GJThKIk",
        "outputId": "6311f8eb-5f8a-4bfd-9888-84b98b30dded"
      },
      "execution_count": 9,
      "outputs": [
        {
          "output_type": "stream",
          "name": "stdout",
          "text": [
            "Suraj:95\n",
            "Vikas:67\n",
            "Anjali:98\n"
          ]
        }
      ]
    },
    {
      "cell_type": "markdown",
      "source": [
        "Write a Python program that calculates the sum of all the values in a dictionary using a loop."
      ],
      "metadata": {
        "id": "_6QWESgAOL8f"
      }
    },
    {
      "cell_type": "code",
      "source": [
        "Match = {\"Rohit\":2,\"Virat\":35,\"Jay\":12,\"Rahul\":16,\"Pant\":15}\n",
        "sum = 0\n",
        "for score  in Match.values():\n",
        "  sum += score\n",
        "print(f\"Total score by top order: {sum}\")\n"
      ],
      "metadata": {
        "colab": {
          "base_uri": "https://localhost:8080/"
        },
        "id": "V0XGAKP5OI9A",
        "outputId": "bb596a55-b08a-4c07-80f4-33d64938b215"
      },
      "execution_count": 23,
      "outputs": [
        {
          "output_type": "stream",
          "name": "stdout",
          "text": [
            "Total score by top order: 80\n"
          ]
        }
      ]
    },
    {
      "cell_type": "markdown",
      "source": [
        "Write a Python program that finds the student with the highest score from a dictionary using\n",
        "a loop (without using max())."
      ],
      "metadata": {
        "id": "Sq3s2a1OVdrt"
      }
    },
    {
      "cell_type": "code",
      "source": [
        "Match2 = {\"Rohit\":2,\"Virat\":35,\"Jay\":12,\"Rahul\":16,\"Pant\":15}\n",
        "highest_run = 0\n",
        "lowest_run = 100\n",
        "Player =\"\"\n",
        "\n",
        "for name,score  in Match2.items():\n",
        "    if score > highest_run:\n",
        "        highest_run = score\n",
        "        Player = name\n",
        "    elif score < lowest_run:\n",
        "        lowest_run = score\n",
        "        player = name\n",
        "\n",
        "print(f\"Highest run is {highest_run} scored by {Player}\")\n",
        "print(f\"lowest run is {lowest_run} scored by {player}\")"
      ],
      "metadata": {
        "colab": {
          "base_uri": "https://localhost:8080/"
        },
        "id": "POAvipIcVbw5",
        "outputId": "f552c432-d61d-4211-a30b-2d98de899b4e"
      },
      "execution_count": 6,
      "outputs": [
        {
          "output_type": "stream",
          "name": "stdout",
          "text": [
            "Highest run is 35 scored by Virat\n",
            "lowest run is 12 scored by Jay\n"
          ]
        }
      ]
    },
    {
      "cell_type": "code",
      "source": [],
      "metadata": {
        "id": "LiXlQloBt8jA"
      },
      "execution_count": null,
      "outputs": []
    },
    {
      "cell_type": "code",
      "source": [
        "students = {\"Alice\": 85, \"Bob\": 78, \"Charlie\": 52}\n",
        "highest_score = 0\n",
        "top_student = \"\"\n",
        "for name, score in students.items():\n",
        "    if score > highest_score:\n",
        "        highest_score = score\n",
        "        top_student = name\n",
        "print(f\"Top student is {top_student} with a score of {highest_score}\")"
      ],
      "metadata": {
        "colab": {
          "base_uri": "https://localhost:8080/"
        },
        "id": "NVyiSICQbErR",
        "outputId": "2bfb2f2e-be7e-409c-a650-350fc4c20bd6"
      },
      "execution_count": 6,
      "outputs": [
        {
          "output_type": "stream",
          "name": "stdout",
          "text": [
            "Top student is Alice with a score of 85\n"
          ]
        }
      ]
    },
    {
      "cell_type": "markdown",
      "source": [
        "Given a list of tuples where each tuple contains a student’s name and their score, write a\n",
        "Python program that creates a dictionary. The dictionary should group the students based on\n",
        "whether their score is 'pass' (>= 50) or 'fail' (< 50). Use loops to categorize the students."
      ],
      "metadata": {
        "id": "fAcRKLDJhpz8"
      }
    },
    {
      "cell_type": "code",
      "source": [
        "Exam_Marks= [('Raj',45),('Mukesh',60), ('sanju', 89), ('vijay',75)]\n",
        "result = {'pass_exam' :[],'fail_exam':[]}\n",
        "\n",
        "for name, marks in Exam_Marks:\n",
        "  if marks >= 50:\n",
        "     result[\"pass_exam\"].append(name)\n",
        "  else:\n",
        "     result[\"fail_exam\"].append(name)\n",
        "\n",
        "print(result)\n",
        "\n"
      ],
      "metadata": {
        "colab": {
          "base_uri": "https://localhost:8080/"
        },
        "id": "esDyrT34hkpY",
        "outputId": "23759615-9cfb-41c1-b55d-81ce0205529d"
      },
      "execution_count": 21,
      "outputs": [
        {
          "output_type": "stream",
          "name": "stdout",
          "text": [
            "{'pass_exam': ['Mukesh', 'sanju', 'vijay'], 'fail_exam': ['Raj']}\n"
          ]
        }
      ]
    },
    {
      "cell_type": "markdown",
      "source": [
        "Given a list and a tuple, write a Python program that finds the common elements between\n",
        "the list and the tuple using a loop.\n",
        "python\n",
        "my_list = [1, 2, 3, 4, 5]\n",
        "my_tuple = (3, 4, 5, 6, 7)"
      ],
      "metadata": {
        "id": "mMDF5aHVTQg4"
      }
    },
    {
      "cell_type": "code",
      "source": [
        "my_list1 = [1, 2, 3, 4, 5]\n",
        "my_tuple1 = (3, 4, 5, 6, 7)\n",
        "common_list = []\n",
        "\n",
        "for i in my_list1:\n",
        "   if i in  my_tuple1:\n",
        "      common_list.append(i)\n",
        "\n",
        "print(common_list)"
      ],
      "metadata": {
        "colab": {
          "base_uri": "https://localhost:8080/"
        },
        "id": "O_dpzJs7TnRN",
        "outputId": "c26a3689-57ee-4e3e-85a0-f9a6072f925d"
      },
      "execution_count": 5,
      "outputs": [
        {
          "output_type": "stream",
          "name": "stdout",
          "text": [
            "[3, 4, 5]\n"
          ]
        }
      ]
    },
    {
      "cell_type": "markdown",
      "source": [],
      "metadata": {
        "id": "jm9Z0ffbTagO"
      }
    }
  ]
}