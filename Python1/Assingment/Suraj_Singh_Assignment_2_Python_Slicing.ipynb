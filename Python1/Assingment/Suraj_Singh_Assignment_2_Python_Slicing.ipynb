{
 "cells": [
  {
   "cell_type": "code",
   "execution_count": 1,
   "id": "1d627260-8263-481b-8826-ba149aab7409",
   "metadata": {},
   "outputs": [
    {
     "name": "stdout",
     "output_type": "stream",
     "text": [
      "Hello, World!\n"
     ]
    }
   ],
   "source": [
    "string_s = \"Hello, World!\" #a. Given a string s = \"Hello, World!\", slice and print the following:The entire string.\n",
    "print(string_s)\n"
   ]
  },
  {
   "cell_type": "code",
   "execution_count": 2,
   "id": "3ecb3524-29b6-4fb5-9131-bb87858bd020",
   "metadata": {},
   "outputs": [
    {
     "data": {
      "text/plain": [
       "'Hello'"
      ]
     },
     "execution_count": 2,
     "metadata": {},
     "output_type": "execute_result"
    }
   ],
   "source": [
    "string_s[:5] # The first 5 characters"
   ]
  },
  {
   "cell_type": "code",
   "execution_count": null,
   "id": "bd352b15-6bc7-4c4d-b3df-8a176d1aaac7",
   "metadata": {},
   "outputs": [],
   "source": []
  },
  {
   "cell_type": "code",
   "execution_count": 4,
   "id": "17204b0f-629d-499b-aa53-eb46e725d520",
   "metadata": {},
   "outputs": [
    {
     "data": {
      "text/plain": [
       "'orld!'"
      ]
     },
     "execution_count": 4,
     "metadata": {},
     "output_type": "execute_result"
    }
   ],
   "source": [
    "string_s[-5:] #The last 5 characters"
   ]
  },
  {
   "cell_type": "code",
   "execution_count": 5,
   "id": "5fde0485-835c-433f-bbf1-a38a3d089c91",
   "metadata": {},
   "outputs": [
    {
     "data": {
      "text/plain": [
       "'ello, Worl'"
      ]
     },
     "execution_count": 5,
     "metadata": {},
     "output_type": "execute_result"
    }
   ],
   "source": [
    "string_s[1:-2] #The string excludes the first and last characters."
   ]
  },
  {
   "cell_type": "code",
   "execution_count": 6,
   "id": "da278b78-922d-4c9d-8db9-3680ff10cf04",
   "metadata": {},
   "outputs": [
    {
     "data": {
      "text/plain": [
       "'Hlo ol!'"
      ]
     },
     "execution_count": 6,
     "metadata": {},
     "output_type": "execute_result"
    }
   ],
   "source": [
    "string_s[::2]  # Every second character in the string."
   ]
  },
  {
   "cell_type": "code",
   "execution_count": 7,
   "id": "e3c505f7-788a-4987-9779-6fff27544848",
   "metadata": {},
   "outputs": [
    {
     "data": {
      "text/plain": [
       "'ld!'"
      ]
     },
     "execution_count": 7,
     "metadata": {},
     "output_type": "execute_result"
    }
   ],
   "source": [
    "# 2. Slicing with Negative Indices: Use negative indices to slice and print the following from the string \n",
    "string_s[-3:] #The last 3 characters"
   ]
  },
  {
   "cell_type": "code",
   "execution_count": 8,
   "id": "72c5891c-d3f9-4865-8045-30a9472772dc",
   "metadata": {},
   "outputs": [
    {
     "data": {
      "text/plain": [
       "'Hello, Worl'"
      ]
     },
     "execution_count": 8,
     "metadata": {},
     "output_type": "execute_result"
    }
   ],
   "source": [
    "string_s[:-2] #All characters except the last 2."
   ]
  },
  {
   "cell_type": "code",
   "execution_count": 13,
   "id": "6a45055c-1b50-44b4-9eca-4c60818dcb78",
   "metadata": {},
   "outputs": [
    {
     "data": {
      "text/plain": [
       "'!dlroW ,olleH'"
      ]
     },
     "execution_count": 13,
     "metadata": {},
     "output_type": "execute_result"
    }
   ],
   "source": [
    "string_s[::-1] #The string reversed."
   ]
  },
  {
   "cell_type": "code",
   "execution_count": 16,
   "id": "915eed82-d322-4c91-9d07-a4d6822cd198",
   "metadata": {},
   "outputs": [
    {
     "data": {
      "text/plain": [
       "10"
      ]
     },
     "execution_count": 16,
     "metadata": {},
     "output_type": "execute_result"
    }
   ],
   "source": [
    "# Part 2: Advanced Slicing Slicing Substrings:\n",
    "\n",
    "Adv_strn = \"The quick brown fox jumps over the lazy dog\"\n",
    "Adv_strn.find(\"quick\")\n",
    "Adv_strn.find(\"lazy\")\n",
    "Adv_strn.find(\"brown fox jumps\")"
   ]
  },
  {
   "cell_type": "code",
   "execution_count": 18,
   "id": "11d612df-9b29-4d4d-86bf-8ec2fddd4dd3",
   "metadata": {},
   "outputs": [
    {
     "data": {
      "text/plain": [
       "'T i o xusv ea g'"
      ]
     },
     "execution_count": 18,
     "metadata": {},
     "output_type": "execute_result"
    }
   ],
   "source": [
    "# Step Slicing:Use step slicing to print the following from the string s:\n",
    "Adv_strn[::3]"
   ]
  },
  {
   "cell_type": "code",
   "execution_count": 19,
   "id": "e7a52cc7-705b-4d8b-8cb0-64003efe2145",
   "metadata": {},
   "outputs": [
    {
     "data": {
      "text/plain": [
       "'hqcbwf m et zd'"
      ]
     },
     "execution_count": 19,
     "metadata": {},
     "output_type": "execute_result"
    }
   ],
   "source": [
    "Adv_strn[1::3] # Every third character starting from the second character"
   ]
  },
  {
   "cell_type": "code",
   "execution_count": 20,
   "id": "42a044ed-6076-4252-9ace-8a823fda9475",
   "metadata": {},
   "outputs": [
    {
     "data": {
      "text/plain": [
       "'gdya h eosmjxfnobkiqeT'"
      ]
     },
     "execution_count": 20,
     "metadata": {},
     "output_type": "execute_result"
    }
   ],
   "source": [
    "Adv_strn[::-2] #The string reversed, stepping by 2."
   ]
  },
  {
   "cell_type": "code",
   "execution_count": 30,
   "id": "9c87e41b-9375-49ed-b111-964673a0173d",
   "metadata": {},
   "outputs": [
    {
     "name": "stdout",
     "output_type": "stream",
     "text": [
      " Date is: 2024-09-01\n",
      " Temprature is: 25°C\n",
      " Weather is: Sunny\n"
     ]
    }
   ],
   "source": [
    "#Part 3: Practical Application Extracting Information:\n",
    "#the following:date,weather, condition.\n",
    "temperature\n",
    "\n",
    "string_data = \"2024-09-01,Sunny,25°C\"\n",
    "data = string_data.split(',')\n",
    "print(f\" Date is: {data[0]}\")\n",
    "print(f\" Temprature is: {data[2]}\")\n",
    "print(f\" Weather is: {data[1]}\")\n"
   ]
  },
  {
   "cell_type": "code",
   "execution_count": 49,
   "id": "b8584d67-658d-459c-98ea-90ca23f79a9b",
   "metadata": {},
   "outputs": [
    {
     "name": "stdout",
     "output_type": "stream",
     "text": [
      "123-456-7890\n"
     ]
    }
   ],
   "source": [
    "# 2. Reformatting Strings\n",
    "phn_num = \"(123) 456-7890\" #reformat phone_number = \"(123) 456-7890\", reformat it to ‘123-456-789'\n",
    "phn1 = phn_num.split(' ')\n",
    "phn2= phn1[0][1:-1]\n",
    "print(f\"{phn2}-{phn1[-1]}\")\n",
    "\n",
    "\n"
   ]
  },
  {
   "cell_type": "code",
   "execution_count": 51,
   "id": "2feb5fa4-acd5-4978-9009-514bae393561",
   "metadata": {},
   "outputs": [
    {
     "data": {
      "text/plain": [
       "'Hello, World!'"
      ]
     },
     "execution_count": 51,
     "metadata": {},
     "output_type": "execute_result"
    }
   ],
   "source": [
    "# Part 4: Questions based on string methods, Upper and Lower Case Conversion:\n",
    "string_s"
   ]
  },
  {
   "cell_type": "code",
   "execution_count": 52,
   "id": "421f6d9f-f2ff-4808-8d9b-da6e2116f72d",
   "metadata": {},
   "outputs": [
    {
     "data": {
      "text/plain": [
       "'HELLO, WORLD!'"
      ]
     },
     "execution_count": 52,
     "metadata": {},
     "output_type": "execute_result"
    }
   ],
   "source": [
    "string_s.upper()"
   ]
  },
  {
   "cell_type": "code",
   "execution_count": 53,
   "id": "123b49cb-21a2-4b22-8154-541f997c6ff0",
   "metadata": {},
   "outputs": [
    {
     "data": {
      "text/plain": [
       "'hello, world!'"
      ]
     },
     "execution_count": 53,
     "metadata": {},
     "output_type": "execute_result"
    }
   ],
   "source": [
    "string_s.lower()"
   ]
  },
  {
   "cell_type": "code",
   "execution_count": 58,
   "id": "1f090aff-ffe9-47e1-b412-3ee3e62700b6",
   "metadata": {},
   "outputs": [
    {
     "name": "stdout",
     "output_type": "stream",
     "text": [
      "Hello, World!\n"
     ]
    }
   ],
   "source": [
    "print(f\"{string_s.title()}\")"
   ]
  },
  {
   "cell_type": "code",
   "execution_count": 67,
   "id": "c18b877e-3eb0-428d-b525-66e19e6dfa9d",
   "metadata": {},
   "outputs": [
    {
     "data": {
      "text/plain": [
       "'Goodmorning'"
      ]
     },
     "execution_count": 67,
     "metadata": {},
     "output_type": "execute_result"
    }
   ],
   "source": [
    "str_s = \"goodmorning\"\n",
    "str_s.capitalize()"
   ]
  },
  {
   "cell_type": "code",
   "execution_count": 68,
   "id": "9f87fac5-f725-4296-b931-4501d2f2e315",
   "metadata": {},
   "outputs": [
    {
     "data": {
      "text/plain": [
       "16"
      ]
     },
     "execution_count": 68,
     "metadata": {},
     "output_type": "execute_result"
    }
   ],
   "source": [
    "Adv_strn.find(\"fox\")\n"
   ]
  },
  {
   "cell_type": "code",
   "execution_count": 73,
   "id": "003a8067-f554-40a0-bb48-d94ad9002bc6",
   "metadata": {},
   "outputs": [
    {
     "data": {
      "text/plain": [
       "-1"
      ]
     },
     "execution_count": 73,
     "metadata": {},
     "output_type": "execute_result"
    }
   ],
   "source": [
    "Adv_strn.find(\"cat\")"
   ]
  },
  {
   "cell_type": "code",
   "execution_count": 72,
   "id": "8c952030-336b-4a7c-985b-0fbb3249e2e4",
   "metadata": {},
   "outputs": [
    {
     "data": {
      "text/plain": [
       "'g'"
      ]
     },
     "execution_count": 72,
     "metadata": {},
     "output_type": "execute_result"
    }
   ],
   "source": [
    "Adv_strn[-1]"
   ]
  },
  {
   "cell_type": "code",
   "execution_count": 76,
   "id": "dc1625c4-327b-4e75-b0a3-9b57e72e12ba",
   "metadata": {},
   "outputs": [
    {
     "name": "stdout",
     "output_type": "stream",
     "text": [
      "The quick brown fox jumps over the lazy cat\n"
     ]
    }
   ],
   "source": [
    "# Replacing Substrings:Given a string s = \"The quick brown fox jumps over the lazy dog\", perform the following:\n",
    "#Replace \"fox\" with \"cat\".\n",
    "adv_strn2= Adv_strn.replace(\"dog\",\"cat\")\n",
    "print(adv_strn2)"
   ]
  },
  {
   "cell_type": "code",
   "execution_count": 77,
   "id": "63c37c93-f731-459a-be33-e85aa34cedf1",
   "metadata": {},
   "outputs": [
    {
     "name": "stdout",
     "output_type": "stream",
     "text": [
      "The_quick_brown_fox_jumps_over_the_lazy_dog\n"
     ]
    }
   ],
   "source": [
    "#Replacing Substrings:Given a string s = \"The quick brown fox jumps over the lazy dog\", perform the following:\n",
    "#b Replacing Substrings: Replace all spaces with underscores.\n",
    "\n",
    "adv_strn3 = Adv_strn.replace(\" \",'_')\n",
    "print(adv_strn3)"
   ]
  },
  {
   "cell_type": "code",
   "execution_count": 78,
   "id": "e98a63cf-9acf-4440-8e52-bcf35c4dbda4",
   "metadata": {},
   "outputs": [
    {
     "data": {
      "text/plain": [
       "['The', 'quick', 'brown', 'fox', 'jumps', 'over', 'the', 'lazy', 'dog']"
      ]
     },
     "execution_count": 78,
     "metadata": {},
     "output_type": "execute_result"
    }
   ],
   "source": [
    "#c. Split the string into a list of words.\n",
    "Adv_strn.split()\n"
   ]
  },
  {
   "cell_type": "code",
   "execution_count": 79,
   "id": "0bc08f7d-8fb8-4442-91a1-d1c9a23bcfb3",
   "metadata": {},
   "outputs": [
    {
     "data": {
      "text/plain": [
       "['The quick br', 'wn f', 'x jumps ', 'ver the lazy d', 'g']"
      ]
     },
     "execution_count": 79,
     "metadata": {},
     "output_type": "execute_result"
    }
   ],
   "source": [
    "#d. Split the string by the letter 'o'.\n",
    "Adv_strn.split('o')"
   ]
  },
  {
   "cell_type": "code",
   "execution_count": 82,
   "id": "cfb39fae-ba08-435b-9184-d7b086a5453e",
   "metadata": {},
   "outputs": [
    {
     "name": "stdout",
     "output_type": "stream",
     "text": [
      "The quick brown fox\n"
     ]
    }
   ],
   "source": [
    "# 4)Joining Strings:Given a list of words ,words = [\"The\", \"quick\", \"brown\", \"fox\"], \n",
    "# perform the following:Join the words with spaces.\n",
    "str =  [\"The\", \"quick\", \"brown\", \"fox\"]\n",
    "str1 = ' '.join(str)\n",
    "print(str1)"
   ]
  },
  {
   "cell_type": "code",
   "execution_count": 83,
   "id": "56b811d6-f48f-4453-82a4-8391cb0bb5b6",
   "metadata": {},
   "outputs": [
    {
     "name": "stdout",
     "output_type": "stream",
     "text": [
      "The-quick-brown-fox\n"
     ]
    }
   ],
   "source": [
    "#b. Join the words with hyphens\n",
    "str2 = '-'.join(str)\n",
    "print(str2)"
   ]
  },
  {
   "cell_type": "code",
   "execution_count": null,
   "id": "1119e22c-ca89-441e-a60f-3edec888ba3b",
   "metadata": {},
   "outputs": [],
   "source": []
  }
 ],
 "metadata": {
  "kernelspec": {
   "display_name": "Python 3 (ipykernel)",
   "language": "python",
   "name": "python3"
  },
  "language_info": {
   "codemirror_mode": {
    "name": "ipython",
    "version": 3
   },
   "file_extension": ".py",
   "mimetype": "text/x-python",
   "name": "python",
   "nbconvert_exporter": "python",
   "pygments_lexer": "ipython3",
   "version": "3.12.4"
  }
 },
 "nbformat": 4,
 "nbformat_minor": 5
}
