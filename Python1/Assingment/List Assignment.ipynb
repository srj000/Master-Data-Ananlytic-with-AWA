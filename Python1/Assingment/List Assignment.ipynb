 %%
my_list = [10,20,30,40,50] #1)Create a list named my_list that contains the following elements: 10, 20, 30, 40, 50

# %%
my_list[0],my_list[-1]  #2)Write a Python code to access the first and last elements of my_list.


# %%
my_list[::4] # 2)Write a Python code to access the first and last elements of my_list.

# %%
my_list.insert(1,25) #3)Change the second element of my_list to 25.

# %%
my_list     #3)Replace the third element of my_list to 15.0
my_list[2] = 15.0
my_list

# %%
my_list.append(50)
my_list

# %%
my_list.remove(60) #6)Remove the first occurrence of 30 from my_list using the remove() method.
my_list

# %%
last_element = my_list.pop(-1) #7)Use the pop() method to remove and return the last element from my_list.
last_element


# %%
my_list.sort() #8)Sort my_list in ascending order.
my_list

# %%
my_list[::-1] #9)Reverse the order of elements in my_list.


# %%
my_list.count(25) #10)Count how many times the value 25 appears in my_list.

# %%
my_list[:3] #11)Slice my_list to create a new list containing the first three elements.

# %%
my_list.index(40) #12)Find the index of the value 40 in my_list.

# %%
my_list.clear() #13)Clear all elements from my_list using the clear() method.
my_list

# %%
nested_list= [[1,2,3],[4,5,6]] #14)Create a nested list called nested_list with two sublists: [1, 2, 3] and [4, 5, 6].
nested_list

# %%
nested_list[1][-2] #15)Access the element 5 from nested_list.



