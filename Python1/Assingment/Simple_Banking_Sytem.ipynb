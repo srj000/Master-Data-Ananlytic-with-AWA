{
 "cells": [
  {
   "cell_type": "code",
   "execution_count": 16,
   "metadata": {},
   "outputs": [
    {
     "name": "stdout",
     "output_type": "stream",
     "text": [
      "Enter'Check' to check Or'Withdraw' to withdraw\n"
     ]
    }
   ],
   "source": [
    "\n",
    "Current_Balance = float(36453.35)\n",
    "print(\"Enter'Check' to check Or'Withdraw' to withdraw\")\n",
    "Val = input(\"Want to Check_balance or Withdraw_balance:\")\n",
    "low_val= val.lower() \n",
    "if low_val == 'check':\n",
    "    print(f\" Your remaing balance is {Current_Balance}\")\n",
    "elif low_val == 'withdraw':\n",
    "    try:\n",
    "        amt = float(input(\"Enter the amount:\"))\n",
    "        if amt> Current_Balance:\n",
    "            print(\"Withdrawal amount is greater than the account balance\")\n",
    "        if amt<0:\n",
    "            print(\"Entered the negative value, Cannot be process\")\n",
    "        else:\n",
    "            Current_Balance -= amt\n",
    "            print(f\"Remaing account balance of your account:{Current_Balance}\" )\n",
    "    except ValueError:\n",
    "        print(\"Error! Invalid number enter, please enter correct number\")\n",
    "    \n",
    "else:\n",
    "    print(\"You have Entered wrong syntax\")\n"
   ]
  }
 ],
 "metadata": {
  "kernelspec": {
   "display_name": "base",
   "language": "python",
   "name": "python3"
  },
  "language_info": {
   "codemirror_mode": {
    "name": "ipython",
    "version": 3
   },
   "file_extension": ".py",
   "mimetype": "text/x-python",
   "name": "python",
   "nbconvert_exporter": "python",
   "pygments_lexer": "ipython3",
   "version": "3.12.4"
  }
 },
 "nbformat": 4,
 "nbformat_minor": 2
}
