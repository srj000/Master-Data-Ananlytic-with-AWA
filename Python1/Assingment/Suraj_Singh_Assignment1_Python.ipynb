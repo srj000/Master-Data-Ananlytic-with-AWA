{
  "nbformat": 4,
  "nbformat_minor": 0,
  "metadata": {
    "colab": {
      "provenance": [],
      "toc_visible": true
    },
    "kernelspec": {
      "name": "python3",
      "display_name": "Python 3"
    },
    "language_info": {
      "name": "python"
    }
  },
  "cells": [
    {
      "cell_type": "code",
      "execution_count": null,
      "metadata": {
        "id": "ewzTdghNjo0C"
      },
      "outputs": [],
      "source": [
        "# (1) Define Variable in python\n",
        "#(a) Varibles are object which are assigned with certain values or data stored in memory. Variable can be any type of data set e.g string, int, float etc.\n",
        "phone = \"iphone_16\" # here \"phone\" is variable\n",
        "name = \"suraj\" # \"name\" is variable\n",
        "\n",
        "#(b)\n",
        "# Varriable- Value of varrible is defined by user, it can be changed or updated.(Mutable)\n",
        "# constant- Value of constant are fixed it cannot be changed.(Immutable)\n",
        "# Python doesn't have any constant however we can create constant in python by capitalizing(upper case) the varaiable name and string in the ',\"\",''' ''' are considered as string constant.\n",
        "\n",
        "\n"
      ]
    },
    {
      "cell_type": "code",
      "source": [
        "#(2) Create different data set\n",
        "num1 = 5 # int\n",
        "num2 = 5.786 #float\n",
        "string_1 = \"create string for example\" #string\n",
        "var1 = bool(3>2) #bool\n",
        "print(var1)\n",
        "type(var1)\n",
        "\n",
        "#(2)(b)\n",
        "\n",
        "variable = {num1, num2, string_1, var1}\n",
        "for var in variable:\n",
        "  print(var,type(var))"
      ],
      "metadata": {
        "colab": {
          "base_uri": "https://localhost:8080/"
        },
        "id": "e-6V7KO0lT20",
        "outputId": "984a9992-a4ea-457c-d240-35a8c328933c"
      },
      "execution_count": null,
      "outputs": [
        {
          "output_type": "stream",
          "name": "stdout",
          "text": [
            "True\n",
            "True <class 'bool'>\n",
            "5.786 <class 'float'>\n",
            "5 <class 'int'>\n",
            "create string for example <class 'str'>\n"
          ]
        }
      ]
    },
    {
      "cell_type": "code",
      "source": [
        "# 3 (a) Airthematic Operators\n",
        "# 1 Addition\n",
        "s1 = 5\n",
        "s2 = 10\n",
        "print(s1+s2)\n",
        "\n",
        "a,b=5,10\n",
        "print (a+b)\n",
        "\n",
        "# 2 substraction\n",
        "c= s2-s1\n",
        "print (c)\n",
        "\n",
        "d= s1-s2\n",
        "d\n",
        "\n",
        "# 3 Division\n",
        "Dv = c/d\n",
        "print(Dv)\n",
        "\n",
        "# 4 Multiplication\n",
        "mul= (a+b)*Dv*d\n",
        "print(mul)\n",
        "\n",
        "# 5  Floor Division\n",
        "fd = mul//4\n",
        "print(fd)  #for rounding off\n",
        "\n",
        "# 6 Modulus for finding the remainder\n",
        "mo = mul%fd\n",
        "print(mo)\n",
        "\n",
        "#7 Exponential\n",
        "exp = mo**(-1)\n",
        "print(exp)\n",
        "\n",
        "\n",
        "\n",
        "\n",
        "\n"
      ],
      "metadata": {
        "colab": {
          "base_uri": "https://localhost:8080/"
        },
        "id": "ti8L-wmLxXCy",
        "outputId": "23bcc11b-008e-4beb-89a9-eed05a89b68c"
      },
      "execution_count": null,
      "outputs": [
        {
          "output_type": "stream",
          "name": "stdout",
          "text": [
            "15\n",
            "15\n",
            "5\n",
            "-1.0\n",
            "75.0\n",
            "18.0\n",
            "3.0\n",
            "0.3333333333333333\n"
          ]
        }
      ]
    },
    {
      "cell_type": "code",
      "source": [
        "# 3 (b)\n",
        "len = int(input(\"Enter the length of rectagle:\"))\n",
        "wid = int(input(\"Enter the width of rectangle:\"))\n",
        "area = int(len*wid)\n",
        "print(\"Area of Rectangle:\", area)"
      ],
      "metadata": {
        "id": "umQ2jGAbEs5G",
        "colab": {
          "base_uri": "https://localhost:8080/"
        },
        "outputId": "5e51baad-402e-4baf-daac-940a99f041fb"
      },
      "execution_count": null,
      "outputs": [
        {
          "output_type": "stream",
          "name": "stdout",
          "text": [
            "Enter the length of rectagle:5\n",
            "Enter the width of rectangle:6\n",
            "Area of Rectangle: 30\n"
          ]
        }
      ]
    },
    {
      "cell_type": "code",
      "source": [],
      "metadata": {
        "id": "WUas1NjyKtyv"
      },
      "execution_count": null,
      "outputs": []
    },
    {
      "cell_type": "code",
      "source": [
        "# 4  Comparision and Logical operators\n",
        " # 1) Equal to (==) , == operator checks if the values of two operands are equal.\n",
        " # 2) Not Equal (!=), != operator checks if the values of two operands are not equal.\n",
        "x,y =int(input(\"Enter the 1st number:\")),int(input(\"Enter the 2nd number:\"))\n",
        "if (int(x==y)):\n",
        "  print((x==y))\n",
        "else:\n",
        "  print((x!=y))"
      ],
      "metadata": {
        "id": "nDpp_7EeEPwg",
        "outputId": "2d33ac8a-8183-4996-f93c-1bf51aa40049",
        "colab": {
          "base_uri": "https://localhost:8080/"
        }
      },
      "execution_count": null,
      "outputs": [
        {
          "output_type": "stream",
          "name": "stdout",
          "text": [
            "Enter the 1st number:2\n",
            "Enter the 2nd number:6\n",
            "True\n"
          ]
        }
      ]
    },
    {
      "cell_type": "code",
      "source": [],
      "metadata": {
        "id": "qBFleYuNLhfy"
      },
      "execution_count": null,
      "outputs": []
    },
    {
      "cell_type": "code",
      "source": [
        "# 4) v) >= operator checks if the value of the left operand is greater than or equal to the value of the right operand\n",
        "#   vi) <= operator checks if the value of the left operand is less than or equal to the value of the right operand.\n",
        "x2,y2 = int(input(\"Enter 1st number\")), int(input(\"Enter 2nd number\"))\n",
        "if (x2>y2):\n",
        "  if((x2/y2) >= y2):\n",
        "    print(\"square of first number is graeter or equal than 2nd number\")\n",
        "  elif(int(x2/y2) <= y2):\n",
        "    print(\"square of first number is smaller or equal than 2nd number\")\n",
        "else:\n",
        "  if((y2/x2) >= x2):\n",
        "    print(\"square of 2nd number is graeter than 1st number\")\n",
        "  elif((y2/x2) <= x2):\n",
        "    print(\"square of 2nd number is smaller or 1st number\")\n"
      ],
      "metadata": {
        "id": "8jCzyuM-LDXA",
        "colab": {
          "base_uri": "https://localhost:8080/"
        },
        "outputId": "63c91ac9-6e61-4c20-b14b-15cda6e834d2"
      },
      "execution_count": null,
      "outputs": [
        {
          "output_type": "stream",
          "name": "stdout",
          "text": [
            "Enter 1st number4\n",
            "Enter 2nd number25\n",
            "square of 2nd number is graeter than 1st number\n"
          ]
        }
      ]
    },
    {
      "cell_type": "code",
      "source": [
        "# 4) iii) > operator checks if the value of the left operand is greater than the value of the right operand\n",
        "#     iv) < operator checks if the value of the left operand is less than the value of the right operand\n",
        "x1,y1 = int(input(\"Enter 1st number\")), int(input(\"Enter 2nd number\"))\n",
        "if (x1>y1):\n",
        "  print(x1, \"is greater than:\", y1)\n",
        "else:\n",
        "  print(y1,\"is greater than:\", x1)\n"
      ],
      "metadata": {
        "colab": {
          "base_uri": "https://localhost:8080/"
        },
        "id": "03h9HO8jmBkH",
        "outputId": "25f2e572-8291-44da-d58a-f7a50021b085"
      },
      "execution_count": null,
      "outputs": [
        {
          "output_type": "stream",
          "name": "stdout",
          "text": [
            "Enter 1st number12\n",
            "Enter 2nd number56\n",
            "56 is greater than: 12\n"
          ]
        }
      ]
    },
    {
      "cell_type": "code",
      "source": [
        "4(b) a1 = int(input(\"Enter the number: \"))\n",
        "if (a1>0):\n",
        " if (a1>0 and a1%2 == 0):\n",
        "    print(a1, \"is evenn number\")\n",
        " elif (a1>0 and a1%2 !=0):\n",
        "    print(a1,\"is odd number\")\n",
        "elif (a1==0):\n",
        "    print(a1,\"is zero\")\n",
        "else :\n",
        "    print(a1,\"is negative number\")"
      ],
      "metadata": {
        "id": "XNceGAIFmqb9",
        "colab": {
          "base_uri": "https://localhost:8080/"
        },
        "outputId": "6dd66c24-a1a6-436d-e5f4-f7a5df8a982e"
      },
      "execution_count": null,
      "outputs": [
        {
          "output_type": "stream",
          "name": "stdout",
          "text": [
            "Enter the number: 6\n",
            "6 is evenn number\n"
          ]
        }
      ]
    },
    {
      "cell_type": "code",
      "source": [
        "# 5) a) Type Casting in Python refers to the process of converting a variable from one data type to another.\n",
        "# Implicit Type Casting:Python automatically converts the data type without user intervention.\n",
        "# Explicit Type Casting:The user manually converts one data type to another using specific functions.\n",
        "\n",
        "#5) b)\n",
        "# 1. Convert a float to an integer\n",
        "float_number = 8.75\n",
        "int_number = 12\n",
        "sum_number = int_number + float_number # Implicit conversion from float to int\n",
        "print(sum_number)\n",
        "\n",
        "# 2. Convert an integer to a string\n",
        "integer_number = 12\n",
        "string_number = str(integer_number)  # Explicit conversion from int to string\n",
        "print(f\"Integer {integer_number} converted to String: '{string_number}'\")\n",
        "\n",
        "# 3. Convert a string to a float\n",
        "string_value = \"123.45\"\n",
        "float_value = float(string_value)  # Explicit conversion from string to float\n",
        "print(f\"String '{string_value}' converted to Float: {float_value}\")\n",
        "\n",
        "\n",
        "\n"
      ],
      "metadata": {
        "id": "OngPOfUs3n43",
        "colab": {
          "base_uri": "https://localhost:8080/"
        },
        "outputId": "a1a34640-07d7-4cdf-fd29-a09c5888b527"
      },
      "execution_count": 2,
      "outputs": [
        {
          "output_type": "stream",
          "name": "stdout",
          "text": [
            "20.75\n",
            "Integer 12 converted to String: '12'\n",
            "String '123.45' converted to Float: 123.45\n"
          ]
        }
      ]
    },
    {
      "cell_type": "code",
      "source": [
        "# Mini Calculator\n",
        "\n",
        "num7 = float(input(\"Enter the first number: \"))\n",
        "num8 = float(input(\"Enter the second number: \"))\n",
        "\n",
        "sum_result = num7 + num8\n",
        "print(\"The sum of given number is\", sum_result)\n",
        "\n",
        "subtract_result = num7 - num8\n",
        "print(\"The result of subtraction :\" ,subtract_result)\n",
        "\n",
        "multiply_result = num7 * num8\n",
        "print(\"The product of given number is :\", multiply_result)\n",
        "\n",
        "if num8 != 0:\n",
        "    divide_result = num7 / num8\n",
        "    print(f\"The result of dividing {num7} by {num8} is: {divide_result}\")\n",
        "else:\n",
        "    print(\"Division by zero is not allowed.\")\n",
        "sum_as_string = str(sum_result)\n",
        "print(\"The sum of given number displayed as string\", sum_as_string)\n",
        "print(type(sum_as_string))\n",
        "\n",
        "\n"
      ],
      "metadata": {
        "colab": {
          "base_uri": "https://localhost:8080/"
        },
        "id": "cNH_txmN6juF",
        "outputId": "983a3653-902a-467e-d625-0cd371b7b208"
      },
      "execution_count": 3,
      "outputs": [
        {
          "output_type": "stream",
          "name": "stdout",
          "text": [
            "Enter the first number: 12\n",
            "Enter the second number: 13\n",
            "The sum of given number is 25.0\n",
            "The result of subtraction : -1.0\n",
            "The product of given number is : 156.0\n",
            "The result of dividing 12.0 by 13.0 is: 0.9230769230769231\n",
            "The sum of given number displayed as string 25.0\n",
            "<class 'str'>\n"
          ]
        }
      ]
    }
  ]
}