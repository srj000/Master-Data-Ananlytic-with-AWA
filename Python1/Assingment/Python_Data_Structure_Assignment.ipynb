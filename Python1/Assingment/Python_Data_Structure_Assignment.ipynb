{
 "cells": [
  {
   "cell_type": "code",
   "execution_count": null,
   "id": "d4b39d98-cce8-4cd6-ae46-dd38dd1da41a",
   "metadata": {},
   "outputs": [],
   "source": [
    "sm_post= {\"user\": \"Nikhil\", \"post\":\"post_id\"}"
   ]
  },
  {
   "cell_type": "code",
   "execution_count": 2,
   "id": "71cfe8d9-e075-499b-9b79-8c25ef25c91c",
   "metadata": {},
   "outputs": [],
   "source": [
    "my_dic= {\"brand\":\"ford\",\"model\":\"Mastang\",\"year\":\"2007\"}\n",
    "\n",
    "dic_1= dict(name=\"suraj\", id=\"123\", age=\"29\", job=\"IT\")"
   ]
  },
  {
   "cell_type": "code",
   "execution_count": 3,
   "id": "fc1f4d18-20e8-43c5-9dda-27ad76d60098",
   "metadata": {},
   "outputs": [
    {
     "data": {
      "text/plain": [
       "{'name': 'suraj', 'id': '123', 'age': '29', 'job': 'IT'}"
      ]
     },
     "execution_count": 3,
     "metadata": {},
     "output_type": "execute_result"
    }
   ],
   "source": [
    "dic_1\n"
   ]
  },
  {
   "cell_type": "code",
   "execution_count": 4,
   "id": "39b2f24c-28de-4149-a1df-51efc3ae536d",
   "metadata": {},
   "outputs": [
    {
     "data": {
      "text/plain": [
       "{'brand': 'ford', 'model': 'Mastang', 'year': '2007'}"
      ]
     },
     "execution_count": 4,
     "metadata": {},
     "output_type": "execute_result"
    }
   ],
   "source": [
    "my_dic"
   ]
  },
  {
   "cell_type": "code",
   "execution_count": 5,
   "id": "f7f7af2b-17e0-460a-9dd5-ac260b5a0f85",
   "metadata": {},
   "outputs": [
    {
     "data": {
      "text/plain": [
       "dict"
      ]
     },
     "execution_count": 5,
     "metadata": {},
     "output_type": "execute_result"
    }
   ],
   "source": [
    "type(my_dic)"
   ]
  },
  {
   "cell_type": "code",
   "execution_count": 6,
   "id": "1ec1b2af-4fcd-4394-8029-f45274d25cfe",
   "metadata": {},
   "outputs": [
    {
     "data": {
      "text/plain": [
       "3"
      ]
     },
     "execution_count": 6,
     "metadata": {},
     "output_type": "execute_result"
    }
   ],
   "source": [
    "len(my_dic)\n"
   ]
  },
  {
   "cell_type": "code",
   "execution_count": 9,
   "id": "e8749eb5-8a74-47b8-9d97-a226a17f1b70",
   "metadata": {},
   "outputs": [
    {
     "data": {
      "text/plain": [
       "'suraj'"
      ]
     },
     "execution_count": 9,
     "metadata": {},
     "output_type": "execute_result"
    }
   ],
   "source": [
    "dic_1[\"name\"]"
   ]
  },
  {
   "cell_type": "code",
   "execution_count": 10,
   "id": "888a93c0-9d38-4c7f-899f-295a50b1ee0f",
   "metadata": {},
   "outputs": [
    {
     "data": {
      "text/plain": [
       "'suraj'"
      ]
     },
     "execution_count": 10,
     "metadata": {},
     "output_type": "execute_result"
    }
   ],
   "source": [
    "dic_1.get(\"name\")"
   ]
  },
  {
   "cell_type": "code",
   "execution_count": 12,
   "id": "ffc0d0a3-75a6-4c13-aa61-f8e245123fef",
   "metadata": {},
   "outputs": [
    {
     "data": {
      "text/plain": [
       "'Mastang'"
      ]
     },
     "execution_count": 12,
     "metadata": {},
     "output_type": "execute_result"
    }
   ],
   "source": [
    "my_dic[\"model\"]"
   ]
  },
  {
   "cell_type": "code",
   "execution_count": 14,
   "id": "503e4e37-1ce2-41dd-9df8-ff9188b3d226",
   "metadata": {},
   "outputs": [],
   "source": [
    "dic_1[\"job\"]= \"operation\""
   ]
  },
  {
   "cell_type": "code",
   "execution_count": 15,
   "id": "5d96a82a-3ccd-45ff-9193-0387e481f655",
   "metadata": {},
   "outputs": [
    {
     "data": {
      "text/plain": [
       "{'name': 'suraj', 'id': '123', 'age': '29', 'job': 'operation'}"
      ]
     },
     "execution_count": 15,
     "metadata": {},
     "output_type": "execute_result"
    }
   ],
   "source": [
    "dic_1"
   ]
  },
  {
   "cell_type": "code",
   "execution_count": 16,
   "id": "eec86b05-aa39-4e34-b9f6-f9da6ad8de6f",
   "metadata": {},
   "outputs": [
    {
     "data": {
      "text/plain": [
       "'123'"
      ]
     },
     "execution_count": 16,
     "metadata": {},
     "output_type": "execute_result"
    }
   ],
   "source": [
    "dic_1.pop(\"id\")"
   ]
  },
  {
   "cell_type": "code",
   "execution_count": 17,
   "id": "c48ed9d5-c9bd-418f-8dab-1d95b8d8eb1e",
   "metadata": {},
   "outputs": [
    {
     "data": {
      "text/plain": [
       "{'name': 'suraj', 'age': '29', 'job': 'operation'}"
      ]
     },
     "execution_count": 17,
     "metadata": {},
     "output_type": "execute_result"
    }
   ],
   "source": [
    "dic_1"
   ]
  },
  {
   "cell_type": "code",
   "execution_count": 18,
   "id": "b494ce9a-8147-4a36-b67e-62313272ba2c",
   "metadata": {},
   "outputs": [],
   "source": [
    "dic_1[\"is\"]=\"present\"\n"
   ]
  },
  {
   "cell_type": "code",
   "execution_count": 19,
   "id": "6f622a7e-ee22-49c5-ba7a-8398a400b677",
   "metadata": {},
   "outputs": [
    {
     "data": {
      "text/plain": [
       "{'name': 'suraj', 'age': '29', 'job': 'operation', 'is': 'present'}"
      ]
     },
     "execution_count": 19,
     "metadata": {},
     "output_type": "execute_result"
    }
   ],
   "source": [
    "dic_1"
   ]
  },
  {
   "cell_type": "code",
   "execution_count": 20,
   "id": "49f95586-a383-47f1-bd85-6b35c98b398d",
   "metadata": {},
   "outputs": [
    {
     "data": {
      "text/plain": [
       "('is', 'present')"
      ]
     },
     "execution_count": 20,
     "metadata": {},
     "output_type": "execute_result"
    }
   ],
   "source": [
    "dic_1.popitem()"
   ]
  },
  {
   "cell_type": "code",
   "execution_count": null,
   "id": "37438a61-f5d2-4503-bb03-b487f4e97f01",
   "metadata": {},
   "outputs": [],
   "source": []
  }
 ],
 "metadata": {
  "kernelspec": {
   "display_name": "Python 3 (ipykernel)",
   "language": "python",
   "name": "python3"
  },
  "language_info": {
   "codemirror_mode": {
    "name": "ipython",
    "version": 3
   },
   "file_extension": ".py",
   "mimetype": "text/x-python",
   "name": "python",
   "nbconvert_exporter": "python",
   "pygments_lexer": "ipython3",
   "version": "3.12.4"
  }
 },
 "nbformat": 4,
 "nbformat_minor": 5
}
