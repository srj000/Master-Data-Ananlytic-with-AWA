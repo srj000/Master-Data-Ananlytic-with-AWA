{
  "nbformat": 4,
  "nbformat_minor": 0,
  "metadata": {
    "colab": {
      "provenance": []
    },
    "kernelspec": {
      "name": "python3",
      "display_name": "Python 3"
    },
    "language_info": {
      "name": "python"
    }
  },
  "cells": [
    {
      "cell_type": "markdown",
      "source": [
        "l = [1, 2, 35, 67, {\"a\": 45, \"b\": 78, \"c\": {90, 20, 45}}, (12, \"prachi\", 9022), {67, \"Anand\", 89},\n",
        "[12, \"r\",\n",
        "909]] Use the above list and solve the below\n",
        "Question 1:\n",
        "Print each element of the list using a for loop.\n",
        "Hint: Your output should display each item on a new line."
      ],
      "metadata": {
        "id": "-jyuvTxxRsSF"
      }
    },
    {
      "cell_type": "code",
      "source": [
        "list1 = [1, 2, 35, 67, {\"a\": 45, \"b\": 78, \"c\": {90, 20, 45}}, (12, \"prachi\", 9022), {67, \"Anand\", 89}, [12, \"r\", 909]]\n",
        "for element in list1:\n",
        " print(element)"
      ],
      "metadata": {
        "colab": {
          "base_uri": "https://localhost:8080/"
        },
        "id": "jJ1Zf92vRxn7",
        "outputId": "549a0872-08ca-483e-ce0e-f3c4176ba1cf"
      },
      "execution_count": null,
      "outputs": [
        {
          "output_type": "stream",
          "name": "stdout",
          "text": [
            "1\n",
            "2\n",
            "35\n",
            "67\n",
            "{'a': 45, 'b': 78, 'c': {90, 20, 45}}\n",
            "(12, 'prachi', 9022)\n",
            "{89, 67, 'Anand'}\n",
            "[12, 'r', 909]\n"
          ]
        }
      ]
    },
    {
      "cell_type": "markdown",
      "source": [
        "Question 2:\n",
        "Identify the type of each element in the list.\n",
        "Hint: Use a for loop to iterate through the list and print the type of each element."
      ],
      "metadata": {
        "id": "fbs5_kxqTwhl"
      }
    },
    {
      "cell_type": "code",
      "source": [
        "for element in list1:\n",
        "  print(f\" Element:{element}, Type :{type(element)}\")"
      ],
      "metadata": {
        "colab": {
          "base_uri": "https://localhost:8080/"
        },
        "id": "4vggltIVTx6q",
        "outputId": "edc93df2-123f-4737-81f7-43fccf867bcc"
      },
      "execution_count": null,
      "outputs": [
        {
          "output_type": "stream",
          "name": "stdout",
          "text": [
            " Element:1, Type :<class 'int'>\n",
            " Element:2, Type :<class 'int'>\n",
            " Element:35, Type :<class 'int'>\n",
            " Element:67, Type :<class 'int'>\n",
            " Element:{'a': 45, 'b': 78, 'c': {90, 20, 45}}, Type :<class 'dict'>\n",
            " Element:(12, 'prachi', 9022), Type :<class 'tuple'>\n",
            " Element:{89, 67, 'Anand'}, Type :<class 'set'>\n",
            " Element:[12, 'r', 909], Type :<class 'list'>\n"
          ]
        }
      ]
    },
    {
      "cell_type": "markdown",
      "source": [
        "Question 3:\n",
        "Extract and print all integers from the list using a for loop.\n",
        "Hint: You may need to check for integers inside nested structures (like dictionaries and sets)."
      ],
      "metadata": {
        "id": "2uJi8j8WWmU9"
      }
    },
    {
      "cell_type": "code",
      "source": [
        "result =[]\n",
        "\n",
        "for i in list1:\n",
        "  if isinstance(i, int):\n",
        "   result.append(i)\n",
        "  elif isinstance(i,dict) :\n",
        "    for j in i.values():\n",
        "      if isinstance(j,int):\n",
        "        result.append(j)\n",
        "      elif isinstance(j,set):\n",
        "          for k in j:\n",
        "            if isinstance(k,int):\n",
        "              result.append(k)\n",
        "\n",
        "  elif isinstance(i,(tuple,set)):\n",
        "    for j in i:\n",
        "      if isinstance (j,int):\n",
        "        result.append(j)\n",
        "\n",
        "  elif type(i)== list:\n",
        "    for j in i:\n",
        "      if isinstance (j,int):\n",
        "        result.append(j)\n",
        "\n",
        "\n",
        "\n",
        "print(result)\n"
      ],
      "metadata": {
        "colab": {
          "base_uri": "https://localhost:8080/"
        },
        "id": "vLBGngpyWybf",
        "outputId": "2e01d006-a077-479d-9e41-c7307317ab41"
      },
      "execution_count": null,
      "outputs": [
        {
          "output_type": "stream",
          "name": "stdout",
          "text": [
            "[1, 2, 35, 67, 45, 78, 90, 20, 45, 12, 9022, 89, 67]\n"
          ]
        }
      ]
    },
    {
      "cell_type": "markdown",
      "source": [
        "Find and print all string values inside the list using a for loop.\n",
        "Hint: Be sure to account for strings inside tuples, dictionaries, and lists"
      ],
      "metadata": {
        "id": "ChEBDUOEzgx7"
      }
    },
    {
      "cell_type": "code",
      "source": [
        "string =[]\n",
        "\n",
        "for i in list1:\n",
        "  if isinstance(i, str):\n",
        "   string.append(i)\n",
        "  elif isinstance(i,dict) :\n",
        "    for j in i.keys():\n",
        "      if isinstance(j,str):\n",
        "        string.append(j)\n",
        "      elif isinstance(j,set):\n",
        "          for k in j:\n",
        "            if isinstance(k,str):\n",
        "              string.append(k)\n",
        "\n",
        "  elif isinstance(i,(tuple,set)):\n",
        "    for j in i:\n",
        "      if isinstance (j,str):\n",
        "        string.append(j)\n",
        "\n",
        "  elif type(i)== list:\n",
        "    for j in i:\n",
        "      if isinstance (j,str):\n",
        "        string.append(j)\n",
        "\n",
        "\n",
        "\n",
        "print(string)"
      ],
      "metadata": {
        "colab": {
          "base_uri": "https://localhost:8080/"
        },
        "id": "q2FxOjIDzidI",
        "outputId": "35523f60-d1c0-4af3-e147-efd594f8c41d"
      },
      "execution_count": null,
      "outputs": [
        {
          "output_type": "stream",
          "name": "stdout",
          "text": [
            "['a', 'b', 'c', 'prachi', 'Anand']\n"
          ]
        }
      ]
    },
    {
      "cell_type": "markdown",
      "source": [
        "Print only the dictionary key-value pairs from the list.\n",
        "Hint: Write a for loop to identify the dictionary in the list and print its keys and\n",
        "corresponding values."
      ],
      "metadata": {
        "id": "UVqy1B5LFBHl"
      }
    },
    {
      "cell_type": "code",
      "source": [
        "for dict1 in list1:\n",
        "  if type(dict1)== dict:\n",
        "    for name, marks in dict1.items():\n",
        "      print(f\" Name : {name},  Marks:{marks}\")"
      ],
      "metadata": {
        "colab": {
          "base_uri": "https://localhost:8080/"
        },
        "id": "auWueZHYFDJ0",
        "outputId": "a7fc8306-c6f6-41f9-c840-bcd9528fbd3d"
      },
      "execution_count": null,
      "outputs": [
        {
          "output_type": "stream",
          "name": "stdout",
          "text": [
            " Name : a,  Marks:45\n",
            " Name : b,  Marks:78\n",
            " Name : c,  Marks:{90, 20, 45}\n"
          ]
        }
      ]
    },
    {
      "cell_type": "markdown",
      "source": [
        "Question 6:\n",
        "Extract and print all unique values from the set found inside the dictionary in the\n",
        "list. Hint: Use a for loop to navigate to the set and print each value."
      ],
      "metadata": {
        "id": "QSHTQvVlHcka"
      }
    },
    {
      "cell_type": "code",
      "source": [
        "\n",
        "for box in list1:\n",
        "  if isinstance(box,dict):\n",
        "    for j in box.values():\n",
        "      if isinstance(j,set):\n",
        "        print(j)"
      ],
      "metadata": {
        "colab": {
          "base_uri": "https://localhost:8080/"
        },
        "id": "yXLmEIGJHfGd",
        "outputId": "fa5eb7a5-3420-4c0d-aa00-9890e5a8c589"
      },
      "execution_count": null,
      "outputs": [
        {
          "output_type": "stream",
          "name": "stdout",
          "text": [
            "{90, 20, 45}\n"
          ]
        }
      ]
    },
    {
      "cell_type": "markdown",
      "source": [
        "Question 7:\n",
        "Flatten and print all elements in the list (including nested elements).\n",
        "Hint: Use a for loop to print every single element inside the list, regardless of whether it is\n",
        "inside another list, dictionary, tuple, or set."
      ],
      "metadata": {
        "id": "gDrBUtBh0BWT"
      }
    },
    {
      "cell_type": "code",
      "source": [
        "list1 = [1, 2, 35, 67, {\"a\": 45, \"b\": 78, \"c\": {90, 20, 45}}, (12, \"prachi\", 9022), {67, \"Anand\", 89}, [12, \"r\", 909]]\n",
        "for element in list1:\n",
        " if isinstance(element, dict):\n",
        "  for i,j in element.items():\n",
        "    print(f\"{i}:{j}\")\n",
        "    if isinstance(j,set):\n",
        "     for k in j:\n",
        "      print(k)\n",
        " elif isinstance(element,(set,tuple,list)):\n",
        "  for i in element:\n",
        "    print(i)\n",
        "\n",
        " else:\n",
        "  print(element)\n",
        "\n"
      ],
      "metadata": {
        "colab": {
          "base_uri": "https://localhost:8080/"
        },
        "id": "aNtsHls60MGs",
        "outputId": "8900c5e7-7d86-4eae-8f4c-3a10f2ad3872"
      },
      "execution_count": null,
      "outputs": [
        {
          "output_type": "stream",
          "name": "stdout",
          "text": [
            "1\n",
            "2\n",
            "35\n",
            "67\n",
            "a:45\n",
            "b:78\n",
            "c:{90, 20, 45}\n",
            "90\n",
            "20\n",
            "45\n",
            "12\n",
            "prachi\n",
            "9022\n",
            "89\n",
            "67\n",
            "Anand\n",
            "12\n",
            "r\n",
            "909\n"
          ]
        }
      ]
    },
    {
      "cell_type": "markdown",
      "source": [
        "Question 8:\n",
        "Count how many times a certain data type (e.g., integer, string) appears in the list.\n",
        "Hint: Use a for loop to count and print how many integers and strings exist in the list,\n",
        "including inside nested structures"
      ],
      "metadata": {
        "id": "4lR6UqeWiW1r"
      }
    },
    {
      "cell_type": "code",
      "source": [
        "strn_count = 0\n",
        "int_count = 0\n",
        "for element in list1:\n",
        "  if isinstance(element, dict):\n",
        "    for i,j in element.items():\n",
        "      if isinstance(j,int):\n",
        "        int_count +=1\n",
        "      elif isinstance(j,str):\n",
        "        strn_count +=1\n",
        "        if isinstance(j,set):\n",
        "          for k in j:\n",
        "            if isinstance(k,int):\n",
        "              int_count +=1\n",
        "            elif isinstance(k,str):\n",
        "              strn_count +=1\n",
        "\n",
        "  elif isinstance(element,(list,set,tuple)):\n",
        "    for i in element:\n",
        "      if isinstance(i,int):\n",
        "        int_count +=1\n",
        "      elif isinstance(i,str):\n",
        "              strn_count +=1\n",
        "\n",
        "  else:\n",
        "      if isinstance(element,int):\n",
        "        int_count +=1\n",
        "      elif isinstance(element,str):\n",
        "              strn_count +=1\n",
        "\n",
        "\n",
        "\n",
        "print(f\"count of integer: {int_count}\")\n",
        "print(f\"count of string: {strn_count}\")\n",
        "\n"
      ],
      "metadata": {
        "colab": {
          "base_uri": "https://localhost:8080/"
        },
        "id": "IwGwnKG-iYNI",
        "outputId": "d5e7fac7-0afb-417b-d466-4f69b082f9f4"
      },
      "execution_count": null,
      "outputs": [
        {
          "output_type": "stream",
          "name": "stdout",
          "text": [
            "count of integer: 12\n",
            "count of string: 3\n"
          ]
        }
      ]
    },
    {
      "cell_type": "markdown",
      "source": [
        "Question 9:\n",
        "Add 10 to each integer found in the list.\n",
        "Hint: Use a for loop to go through the list and, if an integer is found, add 10 to it and print\n",
        "the result."
      ],
      "metadata": {
        "id": "YVo7XfAtZ3kN"
      }
    },
    {
      "cell_type": "code",
      "source": [
        "l = [1, 2, 35, 67, {\"a\": 45, \"b\": 78, \"c\": {90, 20, 45}}, (12, \"prachi\", 9022), {67, \"Anand\", 89}, [12, \"r\", 909]]\n",
        "\n",
        "# List to process the elements (acts as a stack for nested elements)\n",
        "elements_to_process = l.copy()\n",
        "print(elements_to_process)\n",
        "\n",
        "# Using a while loop to process all elements, even nested ones\n",
        "while elements_to_process:\n",
        "    element = elements_to_process.pop(0)  # Get the first element from the list\n",
        "\n",
        "    if isinstance(element, int):  # If the element is an integer\n",
        "        print(element + 10)  # Add 10 to the integer and print it\n",
        "    elif isinstance(element, (list, tuple, set)):  # If the element is a list, tuple, or set\n",
        "        elements_to_process.extend(list(element))  # Add its elements to the list to be processed\n",
        "    elif isinstance(element, dict):  # If the element is a dictionary\n",
        "        elements_to_process.extend(list(element.values()))\n"
      ],
      "metadata": {
        "colab": {
          "base_uri": "https://localhost:8080/"
        },
        "collapsed": true,
        "id": "LWdnZX-TaBv1",
        "outputId": "1fa62776-6ed3-4776-8f33-69f24eb3795c"
      },
      "execution_count": null,
      "outputs": [
        {
          "output_type": "stream",
          "name": "stdout",
          "text": [
            "[1, 2, 35, 67, {'a': 45, 'b': 78, 'c': {90, 20, 45}}, (12, 'prachi', 9022), {89, 67, 'Anand'}, [12, 'r', 909]]\n",
            "11\n",
            "12\n",
            "45\n",
            "77\n",
            "55\n",
            "88\n",
            "22\n",
            "9032\n",
            "99\n",
            "77\n",
            "22\n",
            "919\n",
            "100\n",
            "30\n",
            "55\n"
          ]
        }
      ]
    },
    {
      "cell_type": "code",
      "source": [
        "l = [1, 2, 35, 67, {\"a\": 45, \"b\": 78, \"c\": {90, 20, 45}}, (12, \"prachi\", 9022), {67, \"Anand\", 89}, [12, \"r\", 909]]\n",
        "result_l = []\n",
        "for element in l:\n",
        "  if isinstance(element,int):\n",
        "    result_l.append(element+10)\n",
        "  elif isinstance(element,dict):\n",
        "    for i,j in element.items():\n",
        "      if isinstance(j,int):\n",
        "        result_l.append(j+10)\n",
        "    if isinstance(element,set):\n",
        "      for k in element:\n",
        "        if isinstance(k,int):\n",
        "          result_l.append(i+10)\n",
        "  elif isinstance(element,(list,tuple,set)):\n",
        "    for i in element:\n",
        "      if isinstance(i,int):\n",
        "        result_l.append(i+10)\n",
        "print(result_l)"
      ],
      "metadata": {
        "colab": {
          "base_uri": "https://localhost:8080/"
        },
        "id": "kLoRff8y4crK",
        "outputId": "dab55902-45c6-4388-aee5-6fe9ebb87f1c"
      },
      "execution_count": 6,
      "outputs": [
        {
          "output_type": "stream",
          "name": "stdout",
          "text": [
            "[11, 12, 45, 77, 55, 88, 22, 9032, 99, 77, 22, 919]\n"
          ]
        }
      ]
    },
    {
      "cell_type": "markdown",
      "source": [
        "Question 10:\n",
        "Write a program that prints elements from the set found inside the dictionary, but only if\n",
        "the value is greater than 30.\n",
        "Hint: Use a for loop to identify and filter values from the set."
      ],
      "metadata": {
        "id": "Vksul4M77t2o"
      }
    },
    {
      "cell_type": "markdown",
      "source": [],
      "metadata": {
        "id": "JzhJFt6qRHXE"
      }
    },
    {
      "cell_type": "code",
      "source": [
        "l = [1, 2, 35, 67, {\"a\": 45, \"b\": 78, \"c\": {90, 20, 45}}, (12, \"prachi\", 9022), {67, \"Anand\", 89}, [12, \"r\", 909]]\n",
        "result_g = []\n",
        "for element in l:\n",
        "  if isinstance(element,dict):\n",
        "    for i,j in element.items():\n",
        "      if isinstance(j,set):\n",
        "        for k in j:\n",
        "          if k >30:\n",
        "            result_g.append(k)\n",
        "      else:\n",
        "        if j >30:\n",
        "            result_g.append(j)\n",
        "print(result_g)"
      ],
      "metadata": {
        "id": "igxvTANqSEhV",
        "colab": {
          "base_uri": "https://localhost:8080/"
        },
        "outputId": "5af36051-c217-4ec0-9388-b7f5f911e6d6"
      },
      "execution_count": 7,
      "outputs": [
        {
          "output_type": "stream",
          "name": "stdout",
          "text": [
            "[45, 78, 90, 45]\n"
          ]
        }
      ]
    }
  ]
}